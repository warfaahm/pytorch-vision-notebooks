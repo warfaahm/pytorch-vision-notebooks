{
  "cells": [
    {
      "cell_type": "markdown",
      "metadata": {
        "id": "6xOpOk6DXdHp"
      },
      "source": [
        "# 1. Data"
      ]
    },
    {
      "cell_type": "code",
      "execution_count": 1,
      "metadata": {
        "id": "Iez2ZeE6bRbz"
      },
      "outputs": [],
      "source": [
        "import torch\n",
        "import torchvision\n",
        "from torchvision import transforms, datasets\n",
        "from torch.utils.data import random_split\n",
        "import torch.optim as optim\n",
        "import time\n",
        "import torch.nn.functional as F\n",
        "import torch.nn as nn\n",
        "import matplotlib.pyplot as plt\n",
        "import numpy as np"
      ]
    },
    {
      "cell_type": "code",
      "execution_count": 2,
      "metadata": {
        "colab": {
          "base_uri": "https://localhost:8080/"
        },
        "id": "4hK6tHjUXkUU",
        "outputId": "c22df306-ce47-4d72-cde8-d229b108b81a"
      },
      "outputs": [
        {
          "output_type": "stream",
          "name": "stdout",
          "text": [
            "Files already downloaded and verified\n",
            "Files already downloaded and verified\n"
          ]
        },
        {
          "output_type": "execute_result",
          "data": {
            "text/plain": [
              "(50000, 32, 32, 3)"
            ]
          },
          "metadata": {},
          "execution_count": 2
        }
      ],
      "source": [
        "transform = transforms.Compose([transforms.ToTensor(), transforms.Normalize((0.5, 0.5, 0.5), (0.5, 0.5, 0.5))])\n",
        "\n",
        "train = datasets.CIFAR10(root ='./data', train=True, download=True, transform=transform)\n",
        "\n",
        "test = datasets.CIFAR10(root ='./data', train=False, download=True, transform=transform)\n",
        "train.data.shape"
      ]
    },
    {
      "cell_type": "code",
      "execution_count": 3,
      "metadata": {
        "colab": {
          "base_uri": "https://localhost:8080/"
        },
        "id": "WMe48SDrYRrZ",
        "outputId": "58d11a66-3c3a-4583-e406-4ce1399d986e"
      },
      "outputs": [
        {
          "output_type": "execute_result",
          "data": {
            "text/plain": [
              "(10000, 32, 32, 3)"
            ]
          },
          "metadata": {},
          "execution_count": 3
        }
      ],
      "source": [
        "test.data.shape"
      ]
    },
    {
      "cell_type": "code",
      "execution_count": 4,
      "metadata": {
        "id": "M_ELE959kNt-"
      },
      "outputs": [],
      "source": [
        "classes = ['plane', 'car', 'bird', 'cat','deer', 'dog', 'frog', 'horse', 'ship', 'truck']"
      ]
    },
    {
      "cell_type": "code",
      "execution_count": 5,
      "metadata": {
        "id": "wLu6pLipoxBr"
      },
      "outputs": [],
      "source": [
        "def plot_sample(index):\n",
        "  plt.imshow(train.data[index])\n",
        "  plt.axis('on')\n",
        "  label = train.targets[index]\n",
        "  plt.title(f'Label: {classes[label]}')\n",
        "  plt.show()"
      ]
    },
    {
      "cell_type": "code",
      "execution_count": 6,
      "metadata": {
        "colab": {
          "base_uri": "https://localhost:8080/",
          "height": 452
        },
        "id": "FdEeS78epMfq",
        "outputId": "87f7dab3-e8b6-40b5-935a-41c17cd76d62"
      },
      "outputs": [
        {
          "output_type": "display_data",
          "data": {
            "text/plain": [
              "<Figure size 640x480 with 1 Axes>"
            ],
            "image/png": "[encoded data removed]"
          },
          "metadata": {}
        }
      ],
      "source": [
        "plot_sample(0)"
      ]
    },
    {
      "cell_type": "markdown",
      "metadata": {
        "id": "dHGsqg85w3OV"
      },
      "source": [
        "Split into train, validation"
      ]
    },
    {
      "cell_type": "code",
      "execution_count": 7,
      "metadata": {
        "colab": {
          "base_uri": "https://localhost:8080/"
        },
        "id": "Vap1mgA5wypi",
        "outputId": "692a54af-d7d7-41c7-dbb7-327cfe479b4f"
      },
      "outputs": [
        {
          "output_type": "stream",
          "name": "stdout",
          "text": [
            "5000\n",
            "45000\n"
          ]
        }
      ],
      "source": [
        "num_train = 45000\n",
        "num_valid = 5000\n",
        "train_set, val_set = random_split(train, [num_train, num_valid])\n",
        "print(len(val_set))\n",
        "print(len(train_set))"
      ]
    },
    {
      "cell_type": "code",
      "execution_count": 8,
      "metadata": {
        "id": "mhQyIKe7lF_X"
      },
      "outputs": [],
      "source": [
        "BATCH_SIZE = 16\n",
        "\n",
        "train_loader = torch.utils.data.DataLoader(train_set, batch_size=BATCH_SIZE, shuffle=True)\n",
        "test_loader = torch.utils.data.DataLoader(test, batch_size=BATCH_SIZE, shuffle=False)\n",
        "val_loader = torch.utils.data.DataLoader(val_set, batch_size=BATCH_SIZE, shuffle=True)"
      ]
    },
    {
      "cell_type": "markdown",
      "metadata": {
        "id": "J5o1waZP0Wsz"
      },
      "source": [
        "Check the training set distribution\n"
      ]
    },
    {
      "cell_type": "code",
      "execution_count": 9,
      "metadata": {
        "colab": {
          "base_uri": "https://localhost:8080/"
        },
        "id": "oz46NQeqzlGw",
        "outputId": "6518b760-c252-44ca-f42e-0079ec7edaf2"
      },
      "outputs": [
        {
          "output_type": "stream",
          "name": "stdout",
          "text": [
            "{0: 4489, 1: 4533, 2: 4481, 3: 4515, 4: 4495, 5: 4496, 6: 4494, 7: 4508, 8: 4486, 9: 4503}\n"
          ]
        }
      ],
      "source": [
        "total = 0\n",
        "counter_dict = {0:0, 1:0, 2:0, 3:0, 4:0, 5:0, 6:0, 7:0, 8:0, 9:0}\n",
        "\n",
        "for data in train_loader:\n",
        "  Xs, Ys = data\n",
        "  for y in Ys:\n",
        "    counter_dict[int(y)] += 1\n",
        "    total += 1\n",
        "\n",
        "print(counter_dict)"
      ]
    },
    {
      "cell_type": "markdown",
      "metadata": {
        "id": "SYQunEKarW4A"
      },
      "source": [
        "# 2. The Model"
      ]
    },
    {
      "cell_type": "code",
      "execution_count": 10,
      "metadata": {
        "colab": {
          "base_uri": "https://localhost:8080/"
        },
        "id": "9RqoxelKrccE",
        "outputId": "6d70146b-5f4a-495f-bd2b-6b2fb4b7e85d"
      },
      "outputs": [
        {
          "output_type": "execute_result",
          "data": {
            "text/plain": [
              "CIFAR10(\n",
              "  (cnn): Sequential(\n",
              "    (0): Conv2d(3, 32, kernel_size=(3, 3), stride=(1, 1), padding=same)\n",
              "    (1): ReLU()\n",
              "    (2): BatchNorm2d(32, eps=1e-05, momentum=0.1, affine=True, track_running_stats=True)\n",
              "    (3): MaxPool2d(kernel_size=2, stride=2, padding=0, dilation=1, ceil_mode=False)\n",
              "    (4): Conv2d(32, 64, kernel_size=(3, 3), stride=(1, 1), padding=same)\n",
              "    (5): ReLU()\n",
              "    (6): BatchNorm2d(64, eps=1e-05, momentum=0.1, affine=True, track_running_stats=True)\n",
              "    (7): MaxPool2d(kernel_size=2, stride=2, padding=0, dilation=1, ceil_mode=False)\n",
              "    (8): Conv2d(64, 128, kernel_size=(3, 3), stride=(1, 1), padding=same)\n",
              "    (9): ReLU()\n",
              "    (10): BatchNorm2d(128, eps=1e-05, momentum=0.1, affine=True, track_running_stats=True)\n",
              "    (11): MaxPool2d(kernel_size=2, stride=2, padding=0, dilation=1, ceil_mode=False)\n",
              "    (12): Conv2d(128, 256, kernel_size=(3, 3), stride=(1, 1), padding=same)\n",
              "    (13): ReLU()\n",
              "    (14): BatchNorm2d(256, eps=1e-05, momentum=0.1, affine=True, track_running_stats=True)\n",
              "    (15): MaxPool2d(kernel_size=2, stride=2, padding=0, dilation=1, ceil_mode=False)\n",
              "    (16): Flatten(start_dim=1, end_dim=-1)\n",
              "    (17): Linear(in_features=1024, out_features=512, bias=True)\n",
              "    (18): ReLU()\n",
              "    (19): Dropout(p=0.5, inplace=False)\n",
              "    (20): Linear(in_features=512, out_features=512, bias=True)\n",
              "    (21): ReLU()\n",
              "    (22): Dropout(p=0.2, inplace=False)\n",
              "    (23): Linear(in_features=512, out_features=10, bias=True)\n",
              "    (24): Softmax(dim=-1)\n",
              "  )\n",
              ")"
            ]
          },
          "metadata": {},
          "execution_count": 10
        }
      ],
      "source": [
        "import torch\n",
        "import torch.nn as nn\n",
        "import torch.nn.functional as F\n",
        "\n",
        "class CIFAR10(nn.Module):\n",
        "    def __init__(self):\n",
        "        super(CIFAR10, self).__init__()\n",
        "        self.cnn = nn.Sequential(\n",
        "\n",
        "            nn.Conv2d(3, 32, kernel_size=3, padding='same'),\n",
        "            nn.ReLU(),\n",
        "            nn.BatchNorm2d(32),\n",
        "            nn.MaxPool2d(kernel_size=2, stride=2),\n",
        "\n",
        "            nn.Conv2d(32, 64, kernel_size=3, padding='same'),\n",
        "            nn.ReLU(),\n",
        "            nn.BatchNorm2d(64),\n",
        "            nn.MaxPool2d(kernel_size=2, stride=2),\n",
        "\n",
        "            nn.Conv2d(64, 128, kernel_size=3, padding='same'),\n",
        "            nn.ReLU(),\n",
        "            nn.BatchNorm2d(128),\n",
        "            nn.MaxPool2d(kernel_size=2, stride=2),\n",
        "\n",
        "            nn.Conv2d(128, 256, kernel_size=3, padding='same'),\n",
        "            nn.ReLU(),\n",
        "            nn.BatchNorm2d(256),\n",
        "            nn.MaxPool2d(kernel_size=2, stride=2),\n",
        "\n",
        "\n",
        "            nn.Flatten(),\n",
        "            nn.Linear(256 * 2 * 2, 512),\n",
        "            nn.ReLU(),\n",
        "            nn.Dropout(p=0.5),\n",
        "\n",
        "            nn.Linear(512, 512),\n",
        "            nn.ReLU(),\n",
        "            nn.Dropout(p=0.2),\n",
        "\n",
        "            nn.Linear(512, 10),\n",
        "            nn.Softmax(dim=-1)\n",
        "        )\n",
        "\n",
        "\n",
        "    def forward(self, x):\n",
        "        x = self.cnn(x)\n",
        "\n",
        "        return x\n",
        "\n",
        "model = CIFAR10()\n",
        "\n",
        "device = torch.device(\"cuda:0\" if torch.cuda.is_available() else \"cpu\")\n",
        "model.to(device)"
      ]
    },
    {
      "cell_type": "code",
      "execution_count": 11,
      "metadata": {
        "colab": {
          "base_uri": "https://localhost:8080/"
        },
        "id": "r-FmscKft9dx",
        "outputId": "48886ce0-c6f1-4a9a-dbf3-7c081110b436"
      },
      "outputs": [
        {
          "output_type": "stream",
          "name": "stdout",
          "text": [
            "----------------------------------------------------------------\n",
            "        Layer (type)               Output Shape         Param #\n",
            "================================================================\n",
            "            Conv2d-1           [-1, 32, 32, 32]             896\n",
            "              ReLU-2           [-1, 32, 32, 32]               0\n",
            "       BatchNorm2d-3           [-1, 32, 32, 32]              64\n",
            "         MaxPool2d-4           [-1, 32, 16, 16]               0\n",
            "            Conv2d-5           [-1, 64, 16, 16]          18,496\n",
            "              ReLU-6           [-1, 64, 16, 16]               0\n",
            "       BatchNorm2d-7           [-1, 64, 16, 16]             128\n",
            "         MaxPool2d-8             [-1, 64, 8, 8]               0\n",
            "            Conv2d-9            [-1, 128, 8, 8]          73,856\n",
            "             ReLU-10            [-1, 128, 8, 8]               0\n",
            "      BatchNorm2d-11            [-1, 128, 8, 8]             256\n",
            "        MaxPool2d-12            [-1, 128, 4, 4]               0\n",
            "           Conv2d-13            [-1, 256, 4, 4]         295,168\n",
            "             ReLU-14            [-1, 256, 4, 4]               0\n",
            "      BatchNorm2d-15            [-1, 256, 4, 4]             512\n",
            "        MaxPool2d-16            [-1, 256, 2, 2]               0\n",
            "          Flatten-17                 [-1, 1024]               0\n",
            "           Linear-18                  [-1, 512]         524,800\n",
            "             ReLU-19                  [-1, 512]               0\n",
            "          Dropout-20                  [-1, 512]               0\n",
            "           Linear-21                  [-1, 512]         262,656\n",
            "             ReLU-22                  [-1, 512]               0\n",
            "          Dropout-23                  [-1, 512]               0\n",
            "           Linear-24                   [-1, 10]           5,130\n",
            "          Softmax-25                   [-1, 10]               0\n",
            "================================================================\n",
            "Total params: 1,181,962\n",
            "Trainable params: 1,181,962\n",
            "Non-trainable params: 0\n",
            "----------------------------------------------------------------\n",
            "Input size (MB): 0.01\n",
            "Forward/backward pass size (MB): 1.55\n",
            "Params size (MB): 4.51\n",
            "Estimated Total Size (MB): 6.08\n",
            "----------------------------------------------------------------\n"
          ]
        }
      ],
      "source": [
        "from torchsummary import summary\n",
        "summary(model, input_size=(3,32,32))"
      ]
    },
    {
      "cell_type": "markdown",
      "metadata": {
        "id": "K2jWxJi6v2Lf"
      },
      "source": [
        "# 3. Train"
      ]
    },
    {
      "cell_type": "code",
      "execution_count": 12,
      "metadata": {
        "id": "Utlz4Rcuv5gQ"
      },
      "outputs": [],
      "source": [
        "criterion = nn.CrossEntropyLoss()\n",
        "optimizer = optim.SGD(model.parameters(), lr=0.001, momentum=0.9, weight_decay=0.004)\n",
        "scheduler = optim.lr_scheduler.StepLR(optimizer, step_size=10, gamma=0.1)"
      ]
    },
    {
      "cell_type": "code",
      "execution_count": 13,
      "metadata": {
        "id": "HPrj_zELWox0"
      },
      "outputs": [],
      "source": [
        "def train(model, train_dataloader):\n",
        "    model.train()\n",
        "    train_running_loss = 0.0\n",
        "    train_running_correct = 0\n",
        "\n",
        "    for i, data in enumerate(train_dataloader):\n",
        "        data, target = data[0].to(device), data[1].to(device)\n",
        "        optimizer.zero_grad()\n",
        "        output = model(data)\n",
        "        loss = criterion(output, target)\n",
        "\n",
        "        train_running_loss += loss.item()\n",
        "        _, preds = torch.max(output.data, 1)\n",
        "        train_running_correct += (preds == target).sum().item()\n",
        "\n",
        "        loss.backward()\n",
        "        optimizer.step()\n",
        "    train_loss = train_running_loss/len(train_dataloader.dataset)\n",
        "    train_accuracy = 100. * train_running_correct/len(train_dataloader.dataset)\n",
        "\n",
        "    # print(f'Train Loss: {train_loss:.4f}, Train Acc: {train_accuracy:.2f}')\n",
        "\n",
        "    return train_loss, train_accuracy"
      ]
    },
    {
      "cell_type": "code",
      "execution_count": 14,
      "metadata": {
        "id": "BDdFNE_HWr57"
      },
      "outputs": [],
      "source": [
        "def validate(model, test_dataloader):\n",
        "    model.eval()\n",
        "    val_running_loss = 0.0\n",
        "    val_running_correct = 0\n",
        "\n",
        "    for int, data in enumerate(test_dataloader):\n",
        "        data, target = data[0].to(device), data[1].to(device)\n",
        "        output = model(data)\n",
        "        loss = criterion(output, target)\n",
        "\n",
        "        val_running_loss += loss.item()\n",
        "        _, preds = torch.max(output.data, 1)\n",
        "        val_running_correct += (preds == target).sum().item()\n",
        "\n",
        "    val_loss = val_running_loss/len(test_dataloader.dataset)\n",
        "    val_accuracy = 100. * val_running_correct/len(test_dataloader.dataset)\n",
        "\n",
        "    # print(f'Validation Loss: {val_loss:.4f}, Validation Acc: {val_accuracy:.2f}')\n",
        "\n",
        "    return val_loss, val_accuracy"
      ]
    },
    {
      "cell_type": "code",
      "execution_count": 15,
      "metadata": {
        "colab": {
          "base_uri": "https://localhost:8080/"
        },
        "id": "OHdQ1DNTWzz_",
        "outputId": "fcac4aa2-dcf0-417c-c2b9-dae14202cba6"
      },
      "outputs": [
        {
          "output_type": "stream",
          "name": "stdout",
          "text": [
            "Epoch 0, Loss: 0.1346, Train Acc: 31.24, Val acc: 49.98\n",
            "Epoch 1, Loss: 0.1222, Train Acc: 51.65, Val acc: 55.34\n",
            "Epoch 2, Loss: 0.1180, Train Acc: 57.98, Val acc: 60.50\n",
            "Epoch 3, Loss: 0.1150, Train Acc: 63.19, Val acc: 63.28\n",
            "Epoch 4, Loss: 0.1133, Train Acc: 66.05, Val acc: 67.30\n",
            "Epoch 5, Loss: 0.1115, Train Acc: 68.82, Val acc: 68.34\n",
            "Epoch 6, Loss: 0.1097, Train Acc: 72.53, Val acc: 71.46\n",
            "Epoch 7, Loss: 0.1081, Train Acc: 75.03, Val acc: 74.24\n",
            "Epoch 8, Loss: 0.1068, Train Acc: 77.12, Val acc: 74.80\n",
            "Epoch 9, Loss: 0.1057, Train Acc: 78.97, Val acc: 76.90\n",
            "Epoch 10, Loss: 0.1024, Train Acc: 84.35, Val acc: 79.58\n",
            "Epoch 11, Loss: 0.1011, Train Acc: 86.60, Val acc: 80.34\n",
            "Epoch 12, Loss: 0.1005, Train Acc: 87.47, Val acc: 80.52\n",
            "Epoch 13, Loss: 0.0999, Train Acc: 88.56, Val acc: 80.28\n",
            "Epoch 14, Loss: 0.0994, Train Acc: 89.28, Val acc: 80.62\n"
          ]
        }
      ],
      "source": [
        "train_loss , train_accuracy = [], []\n",
        "val_loss , val_accuracy = [], []\n",
        "\n",
        "EPOCHS = 15\n",
        "\n",
        "for epoch in range(EPOCHS):\n",
        "    train_epoch_loss, train_epoch_accuracy = train(model, train_loader)\n",
        "    val_epoch_loss, val_epoch_accuracy = validate(model, val_loader)\n",
        "    scheduler.step()\n",
        "    train_loss.append(train_epoch_loss)\n",
        "    train_accuracy.append(train_epoch_accuracy)\n",
        "    val_loss.append(val_epoch_loss)\n",
        "    val_accuracy.append(val_epoch_accuracy)\n",
        "\n",
        "    print(f'Epoch {epoch}, Loss: {train_epoch_loss:.4f}, Train Acc: {train_epoch_accuracy:.2f}, Val acc: {val_epoch_accuracy:.2f}')\n"
      ]
    },
    {
      "cell_type": "code",
      "execution_count": 16,
      "metadata": {
        "id": "THL3lyPkN4ub",
        "colab": {
          "base_uri": "https://localhost:8080/",
          "height": 599
        },
        "outputId": "9c9a6f61-8c95-4db6-dd4e-8c4ed17a2205"
      },
      "outputs": [
        {
          "output_type": "display_data",
          "data": {
            "text/plain": [
              "<Figure size 1000x700 with 1 Axes>"
            ],
            "image/png": "[encoded data removed]"
          },
          "metadata": {}
        }
      ],
      "source": [
        "plt.figure(figsize=(10, 7))\n",
        "plt.plot(train_loss, color='orange', label='train loss')\n",
        "plt.plot(val_loss, color='red', label='validataion loss')\n",
        "plt.legend()\n",
        "plt.savefig('loss.png')\n",
        "plt.show()"
      ]
    },
    {
      "cell_type": "code",
      "execution_count": 17,
      "metadata": {
        "id": "OaFvxY7bXQVq",
        "colab": {
          "base_uri": "https://localhost:8080/",
          "height": 599
        },
        "outputId": "18c1d85d-4647-4744-dfe5-4663520433a8"
      },
      "outputs": [
        {
          "output_type": "display_data",
          "data": {
            "text/plain": [
              "<Figure size 1000x700 with 1 Axes>"
            ],
            "image/png": "[encoded data removed]"
          },
          "metadata": {}
        }
      ],
      "source": [
        "plt.figure(figsize=(10, 7))\n",
        "plt.plot(train_accuracy, color='green', label='train accuracy')\n",
        "plt.plot(val_accuracy, color='blue', label='validataion accuracy')\n",
        "plt.legend()\n",
        "plt.savefig('accuracy.png')\n",
        "plt.show()"
      ]
    },
    {
      "cell_type": "markdown",
      "metadata": {
        "id": "Mo-sBPeM-3CK"
      },
      "source": [
        "# 4. Test"
      ]
    },
    {
      "cell_type": "code",
      "execution_count": 18,
      "metadata": {
        "id": "KSiC228H-5j0",
        "colab": {
          "base_uri": "https://localhost:8080/"
        },
        "outputId": "0271c7eb-33cc-4cb1-97ea-4fa109de411c"
      },
      "outputs": [
        {
          "output_type": "stream",
          "name": "stdout",
          "text": [
            "Accuracy of model: 80.06 %\n"
          ]
        }
      ],
      "source": [
        "correct = 0\n",
        "total = 0\n",
        "\n",
        "with torch.no_grad():\n",
        "\n",
        "  for data in test_loader:\n",
        "    images, labels = data\n",
        "    images, labels = images.to(device), labels.to(device)\n",
        "\n",
        "    outputs = model(images)\n",
        "\n",
        "    _, predicted = torch.max(outputs.data, 1)\n",
        "    total += labels.size(0)\n",
        "    correct += (predicted == labels).sum().item()\n",
        "print(f'Accuracy of model: {100 * correct / total:.2f} %')"
      ]
    }
  ],
  "metadata": {
    "accelerator": "GPU",
    "colab": {
      "provenance": []
    },
    "kernelspec": {
      "display_name": "Python 3",
      "name": "python3"
    },
    "language_info": {
      "name": "python"
    }
  },
  "nbformat": 4,
  "nbformat_minor": 0
}